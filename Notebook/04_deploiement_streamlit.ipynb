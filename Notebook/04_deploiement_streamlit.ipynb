{
 "cells": [
  {
   "cell_type": "code",
   "execution_count": 1,
   "id": "93461833-0bd0-4feb-8eed-ebfe876d781d",
   "metadata": {},
   "outputs": [],
   "source": [
    "import pandas as pd\n",
    "import numpy as np \n",
    "\n",
    "import matplotlib.pyplot as plt\n",
    "\n",
    "from sklearn.model_selection import train_test_split\n",
    "\n",
    "from sklearn.model_selection import cross_val_score,StratifiedKFold,GridSearchCV\n",
    "from sklearn.metrics import accuracy_score,classification_report,confusion_matrix\n",
    "from lightgbm import LGBMClassifier\n",
    "from sklearn.model_selection import train_test_split\n",
    "import joblib"
   ]
  },
  {
   "cell_type": "code",
   "execution_count": 2,
   "id": "5bfc0802-784c-45bd-b38c-2bf2b204a44e",
   "metadata": {},
   "outputs": [],
   "source": [
    "df=pd.read_csv(\"03_app_encoded.csv\")"
   ]
  },
  {
   "cell_type": "code",
   "execution_count": 3,
   "id": "9668519c-e72c-4c1f-8fbe-5935b2b354b1",
   "metadata": {},
   "outputs": [
    {
     "data": {
      "text/html": [
       "<div>\n",
       "<style scoped>\n",
       "    .dataframe tbody tr th:only-of-type {\n",
       "        vertical-align: middle;\n",
       "    }\n",
       "\n",
       "    .dataframe tbody tr th {\n",
       "        vertical-align: top;\n",
       "    }\n",
       "\n",
       "    .dataframe thead th {\n",
       "        text-align: right;\n",
       "    }\n",
       "</style>\n",
       "<table border=\"1\" class=\"dataframe\">\n",
       "  <thead>\n",
       "    <tr style=\"text-align: right;\">\n",
       "      <th></th>\n",
       "      <th>sk_id_curr</th>\n",
       "      <th>target</th>\n",
       "      <th>cnt_children</th>\n",
       "      <th>amt_income_total</th>\n",
       "      <th>amt_credit</th>\n",
       "      <th>amt_annuity</th>\n",
       "      <th>amt_goods_price</th>\n",
       "      <th>region_population_relative</th>\n",
       "      <th>days_birth</th>\n",
       "      <th>days_employed</th>\n",
       "      <th>...</th>\n",
       "      <th>organization_type_Transport: type 1</th>\n",
       "      <th>organization_type_Transport: type 2</th>\n",
       "      <th>organization_type_Transport: type 3</th>\n",
       "      <th>organization_type_Transport: type 4</th>\n",
       "      <th>organization_type_University</th>\n",
       "      <th>organization_type_XNA</th>\n",
       "      <th>prev_name_contract_type_Consumer loans</th>\n",
       "      <th>prev_name_contract_type_Revolving loans</th>\n",
       "      <th>prev_name_contract_type_Unknown</th>\n",
       "      <th>prev_name_contract_type_XNA</th>\n",
       "    </tr>\n",
       "  </thead>\n",
       "  <tbody>\n",
       "    <tr>\n",
       "      <th>0</th>\n",
       "      <td>100002</td>\n",
       "      <td>1</td>\n",
       "      <td>0</td>\n",
       "      <td>202500.0</td>\n",
       "      <td>406597.5</td>\n",
       "      <td>24700.5</td>\n",
       "      <td>351000.0</td>\n",
       "      <td>0.018801</td>\n",
       "      <td>9461</td>\n",
       "      <td>637</td>\n",
       "      <td>...</td>\n",
       "      <td>False</td>\n",
       "      <td>False</td>\n",
       "      <td>False</td>\n",
       "      <td>False</td>\n",
       "      <td>False</td>\n",
       "      <td>False</td>\n",
       "      <td>True</td>\n",
       "      <td>False</td>\n",
       "      <td>False</td>\n",
       "      <td>False</td>\n",
       "    </tr>\n",
       "    <tr>\n",
       "      <th>1</th>\n",
       "      <td>100003</td>\n",
       "      <td>0</td>\n",
       "      <td>0</td>\n",
       "      <td>270000.0</td>\n",
       "      <td>1293502.5</td>\n",
       "      <td>35698.5</td>\n",
       "      <td>1129500.0</td>\n",
       "      <td>0.003541</td>\n",
       "      <td>16765</td>\n",
       "      <td>1188</td>\n",
       "      <td>...</td>\n",
       "      <td>False</td>\n",
       "      <td>False</td>\n",
       "      <td>False</td>\n",
       "      <td>False</td>\n",
       "      <td>False</td>\n",
       "      <td>False</td>\n",
       "      <td>True</td>\n",
       "      <td>False</td>\n",
       "      <td>False</td>\n",
       "      <td>False</td>\n",
       "    </tr>\n",
       "    <tr>\n",
       "      <th>2</th>\n",
       "      <td>100004</td>\n",
       "      <td>0</td>\n",
       "      <td>0</td>\n",
       "      <td>67500.0</td>\n",
       "      <td>135000.0</td>\n",
       "      <td>6750.0</td>\n",
       "      <td>135000.0</td>\n",
       "      <td>0.010032</td>\n",
       "      <td>19046</td>\n",
       "      <td>225</td>\n",
       "      <td>...</td>\n",
       "      <td>False</td>\n",
       "      <td>False</td>\n",
       "      <td>False</td>\n",
       "      <td>False</td>\n",
       "      <td>False</td>\n",
       "      <td>False</td>\n",
       "      <td>True</td>\n",
       "      <td>False</td>\n",
       "      <td>False</td>\n",
       "      <td>False</td>\n",
       "    </tr>\n",
       "    <tr>\n",
       "      <th>3</th>\n",
       "      <td>100006</td>\n",
       "      <td>0</td>\n",
       "      <td>0</td>\n",
       "      <td>135000.0</td>\n",
       "      <td>312682.5</td>\n",
       "      <td>29686.5</td>\n",
       "      <td>297000.0</td>\n",
       "      <td>0.008019</td>\n",
       "      <td>19005</td>\n",
       "      <td>3039</td>\n",
       "      <td>...</td>\n",
       "      <td>False</td>\n",
       "      <td>False</td>\n",
       "      <td>False</td>\n",
       "      <td>False</td>\n",
       "      <td>False</td>\n",
       "      <td>False</td>\n",
       "      <td>False</td>\n",
       "      <td>False</td>\n",
       "      <td>False</td>\n",
       "      <td>False</td>\n",
       "    </tr>\n",
       "    <tr>\n",
       "      <th>4</th>\n",
       "      <td>100007</td>\n",
       "      <td>0</td>\n",
       "      <td>0</td>\n",
       "      <td>121500.0</td>\n",
       "      <td>513000.0</td>\n",
       "      <td>21865.5</td>\n",
       "      <td>513000.0</td>\n",
       "      <td>0.028663</td>\n",
       "      <td>19932</td>\n",
       "      <td>3038</td>\n",
       "      <td>...</td>\n",
       "      <td>False</td>\n",
       "      <td>False</td>\n",
       "      <td>False</td>\n",
       "      <td>False</td>\n",
       "      <td>False</td>\n",
       "      <td>False</td>\n",
       "      <td>False</td>\n",
       "      <td>False</td>\n",
       "      <td>False</td>\n",
       "      <td>False</td>\n",
       "    </tr>\n",
       "  </tbody>\n",
       "</table>\n",
       "<p>5 rows × 205 columns</p>\n",
       "</div>"
      ],
      "text/plain": [
       "   sk_id_curr  target  cnt_children  amt_income_total  amt_credit  \\\n",
       "0      100002       1             0          202500.0    406597.5   \n",
       "1      100003       0             0          270000.0   1293502.5   \n",
       "2      100004       0             0           67500.0    135000.0   \n",
       "3      100006       0             0          135000.0    312682.5   \n",
       "4      100007       0             0          121500.0    513000.0   \n",
       "\n",
       "   amt_annuity  amt_goods_price  region_population_relative  days_birth  \\\n",
       "0      24700.5         351000.0                    0.018801        9461   \n",
       "1      35698.5        1129500.0                    0.003541       16765   \n",
       "2       6750.0         135000.0                    0.010032       19046   \n",
       "3      29686.5         297000.0                    0.008019       19005   \n",
       "4      21865.5         513000.0                    0.028663       19932   \n",
       "\n",
       "   days_employed  ...  organization_type_Transport: type 1  \\\n",
       "0            637  ...                                False   \n",
       "1           1188  ...                                False   \n",
       "2            225  ...                                False   \n",
       "3           3039  ...                                False   \n",
       "4           3038  ...                                False   \n",
       "\n",
       "   organization_type_Transport: type 2  organization_type_Transport: type 3  \\\n",
       "0                                False                                False   \n",
       "1                                False                                False   \n",
       "2                                False                                False   \n",
       "3                                False                                False   \n",
       "4                                False                                False   \n",
       "\n",
       "   organization_type_Transport: type 4  organization_type_University  \\\n",
       "0                                False                         False   \n",
       "1                                False                         False   \n",
       "2                                False                         False   \n",
       "3                                False                         False   \n",
       "4                                False                         False   \n",
       "\n",
       "   organization_type_XNA  prev_name_contract_type_Consumer loans  \\\n",
       "0                  False                                    True   \n",
       "1                  False                                    True   \n",
       "2                  False                                    True   \n",
       "3                  False                                   False   \n",
       "4                  False                                   False   \n",
       "\n",
       "   prev_name_contract_type_Revolving loans  prev_name_contract_type_Unknown  \\\n",
       "0                                    False                            False   \n",
       "1                                    False                            False   \n",
       "2                                    False                            False   \n",
       "3                                    False                            False   \n",
       "4                                    False                            False   \n",
       "\n",
       "   prev_name_contract_type_XNA  \n",
       "0                        False  \n",
       "1                        False  \n",
       "2                        False  \n",
       "3                        False  \n",
       "4                        False  \n",
       "\n",
       "[5 rows x 205 columns]"
      ]
     },
     "execution_count": 3,
     "metadata": {},
     "output_type": "execute_result"
    }
   ],
   "source": [
    "df.head()"
   ]
  },
  {
   "cell_type": "code",
   "execution_count": 4,
   "id": "db9b9a9d-e6af-4a86-949e-c524ef014378",
   "metadata": {},
   "outputs": [],
   "source": [
    "X = df.drop(columns=['target','sk_id_curr'])\n",
    "y = df['target']\n"
   ]
  },
  {
   "cell_type": "markdown",
   "id": "cdbc6d01-d674-4f97-a39b-b7fff13757e5",
   "metadata": {},
   "source": [
    "créer un data_template.csv contenant les moyennes de toutes les colonnes"
   ]
  },
  {
   "cell_type": "markdown",
   "id": "b31813e6-7be9-415d-8258-82dd3eca04dd",
   "metadata": {},
   "source": [
    "et surtout on ne veut ue une ligne Tu charges 1 ligne avec la moyenne de ces colonnes et l'utilisateur modifieras les valeurs (donc les valeurs ue tauras mit dans le formulaire)"
   ]
  },
  {
   "cell_type": "code",
   "execution_count": 5,
   "id": "0c3cc3bc-dd1f-4f20-86fe-ebec289a2fd8",
   "metadata": {},
   "outputs": [],
   "source": [
    "# ensuite on veut calculer la moyenne de chaque colonne\n",
    "template = X.mean(numeric_only=True).to_frame().T\n"
   ]
  },
  {
   "cell_type": "code",
   "execution_count": 6,
   "id": "58e4b9c8-cd33-4565-9a4c-e764f8044cd5",
   "metadata": {},
   "outputs": [
    {
     "data": {
      "text/plain": [
       "(1, 203)"
      ]
     },
     "execution_count": 6,
     "metadata": {},
     "output_type": "execute_result"
    }
   ],
   "source": [
    "template.shape"
   ]
  },
  {
   "cell_type": "code",
   "execution_count": null,
   "id": "af594ad9-80e0-4de4-a91d-5afe9c10a409",
   "metadata": {},
   "outputs": [],
   "source": []
  },
  {
   "cell_type": "code",
   "execution_count": 7,
   "id": "337193a2-4a1e-4dab-915c-522cb807f596",
   "metadata": {},
   "outputs": [],
   "source": [
    "template.to_csv(\"data_template.csv\", index=False)"
   ]
  },
  {
   "cell_type": "markdown",
   "id": "6f9fc7d6-4d2a-4aeb-86f0-af66c78d3b8e",
   "metadata": {},
   "source": [
    "partie entrainement: tout dabord on va charger tout ce dont on a besoin:\n"
   ]
  },
  {
   "cell_type": "code",
   "execution_count": null,
   "id": "335e2f8f-58df-49fb-a95b-5d68779e38bc",
   "metadata": {},
   "outputs": [],
   "source": [
    "\n",
    "\n"
   ]
  },
  {
   "cell_type": "code",
   "execution_count": 8,
   "id": "133ff8aa-7385-4f0e-9da8-07a1dcdbadf0",
   "metadata": {},
   "outputs": [],
   "source": [
    "X_train, X_test, y_train, y_test = train_test_split(X, y, stratify=y, test_size=0.2, random_state=42)"
   ]
  },
  {
   "cell_type": "code",
   "execution_count": 9,
   "id": "3fd51961-9150-4320-8704-a9d035d417eb",
   "metadata": {},
   "outputs": [],
   "source": [
    "import re\n",
    "\n",
    "# Nettoyage global pour X, X_train et X_test\n",
    "clean_columns = [re.sub(r\"[^A-Za-z0-9_]\", \"_\", col) for col in X_train.columns]\n",
    "\n",
    "X_train.columns = clean_columns\n",
    "X_test.columns = clean_columns\n"
   ]
  },
  {
   "cell_type": "code",
   "execution_count": 10,
   "id": "bfe1bf0e-6e5e-4996-8bc8-466e4ad1b407",
   "metadata": {},
   "outputs": [
    {
     "name": "stdout",
     "output_type": "stream",
     "text": [
      "[LightGBM] [Info] Number of positive: 19860, number of negative: 226148\n",
      "[LightGBM] [Info] Auto-choosing row-wise multi-threading, the overhead of testing was 0.077099 seconds.\n",
      "You can set `force_row_wise=true` to remove the overhead.\n",
      "And if memory is not enough, you can set `force_col_wise=true`.\n",
      "[LightGBM] [Info] Total Bins 9624\n",
      "[LightGBM] [Info] Number of data points in the train set: 246008, number of used features: 192\n",
      "[LightGBM] [Info] [binary:BoostFromScore]: pavg=0.500000 -> initscore=-0.000000\n",
      "[LightGBM] [Info] Start training from score -0.000000\n"
     ]
    },
    {
     "data": {
      "text/plain": [
       "0.7174121587564835"
      ]
     },
     "execution_count": 10,
     "metadata": {},
     "output_type": "execute_result"
    }
   ],
   "source": [
    "model= LGBMClassifier(class_weight='balanced', random_state=42, n_jobs=-1)\n",
    "model.fit(X_train,y_train)\n",
    "model.score(X_test,y_test)\n"
   ]
  },
  {
   "cell_type": "code",
   "execution_count": 11,
   "id": "5a794553-8c33-4e1b-904d-955c74b4e4b0",
   "metadata": {},
   "outputs": [
    {
     "name": "stdout",
     "output_type": "stream",
     "text": [
      "[LightGBM] [Info] Number of positive: 15888, number of negative: 180918\n",
      "[LightGBM] [Info] Auto-choosing col-wise multi-threading, the overhead of testing was 0.100846 seconds.\n",
      "You can set `force_col_wise=true` to remove the overhead.\n",
      "[LightGBM] [Info] Total Bins 9630\n",
      "[LightGBM] [Info] Number of data points in the train set: 196806, number of used features: 191\n",
      "[LightGBM] [Info] [binary:BoostFromScore]: pavg=0.500000 -> initscore=0.000000\n",
      "[LightGBM] [Info] Start training from score 0.000000\n",
      "[LightGBM] [Info] Number of positive: 15888, number of negative: 180918\n",
      "[LightGBM] [Info] Auto-choosing row-wise multi-threading, the overhead of testing was 0.044261 seconds.\n",
      "You can set `force_row_wise=true` to remove the overhead.\n",
      "And if memory is not enough, you can set `force_col_wise=true`.\n",
      "[LightGBM] [Info] Total Bins 9624\n",
      "[LightGBM] [Info] Number of data points in the train set: 196806, number of used features: 192\n",
      "[LightGBM] [Info] [binary:BoostFromScore]: pavg=0.500000 -> initscore=0.000000\n",
      "[LightGBM] [Info] Start training from score 0.000000\n",
      "[LightGBM] [Info] Number of positive: 15888, number of negative: 180918\n",
      "[LightGBM] [Info] Auto-choosing row-wise multi-threading, the overhead of testing was 0.042804 seconds.\n",
      "You can set `force_row_wise=true` to remove the overhead.\n",
      "And if memory is not enough, you can set `force_col_wise=true`.\n",
      "[LightGBM] [Info] Total Bins 9631\n",
      "[LightGBM] [Info] Number of data points in the train set: 196806, number of used features: 192\n",
      "[LightGBM] [Info] [binary:BoostFromScore]: pavg=0.500000 -> initscore=0.000000\n",
      "[LightGBM] [Info] Start training from score 0.000000\n",
      "[LightGBM] [Info] Number of positive: 15888, number of negative: 180919\n",
      "[LightGBM] [Info] Auto-choosing row-wise multi-threading, the overhead of testing was 0.039020 seconds.\n",
      "You can set `force_row_wise=true` to remove the overhead.\n",
      "And if memory is not enough, you can set `force_col_wise=true`.\n",
      "[LightGBM] [Info] Total Bins 9625\n",
      "[LightGBM] [Info] Number of data points in the train set: 196807, number of used features: 191\n",
      "[LightGBM] [Info] [binary:BoostFromScore]: pavg=0.500000 -> initscore=0.000000\n",
      "[LightGBM] [Info] Start training from score 0.000000\n",
      "[LightGBM] [Info] Number of positive: 15888, number of negative: 180919\n",
      "[LightGBM] [Info] Auto-choosing row-wise multi-threading, the overhead of testing was 0.049270 seconds.\n",
      "You can set `force_row_wise=true` to remove the overhead.\n",
      "And if memory is not enough, you can set `force_col_wise=true`.\n",
      "[LightGBM] [Info] Total Bins 9626\n",
      "[LightGBM] [Info] Number of data points in the train set: 196807, number of used features: 191\n",
      "[LightGBM] [Info] [binary:BoostFromScore]: pavg=0.500000 -> initscore=0.000000\n",
      "[LightGBM] [Info] Start training from score 0.000000\n"
     ]
    },
    {
     "data": {
      "text/plain": [
       "array([0.67547835, 0.68680765, 0.6805136 , 0.67925478, 0.67900302])"
      ]
     },
     "execution_count": 11,
     "metadata": {},
     "output_type": "execute_result"
    }
   ],
   "source": [
    "cv=cv=StratifiedKFold(5,shuffle=True,random_state=42)\n",
    "cross_val_score(model,X_train,y_train,cv=cv,scoring='recall')"
   ]
  },
  {
   "cell_type": "code",
   "execution_count": 12,
   "id": "0a1abd39-f13a-4085-9129-b939c30dcff9",
   "metadata": {},
   "outputs": [],
   "source": [
    "lgbm = LGBMClassifier(\n",
    "    objective='binary',\n",
    "    boosting_type='gbdt',\n",
    "    n_jobs=-1,\n",
    "    random_state=42\n",
    ")\n",
    "\n",
    "# 2. Grille des hyperparamètres\n",
    "param_grid = {\n",
    "    'num_leaves': [31],\n",
    "    'max_depth': [5, -1],\n",
    "    'learning_rate': [0.05],\n",
    "    'n_estimators': [100,300],\n",
    "    'scale_pos_weight': [5, 8]  # pour les classes déséquilibrées\n",
    "}\n",
    "\n",
    "\n",
    "\n",
    "# 4. GridSearchCV avec scoring orienté F1 pour prendre en compte les faux négatifs\n",
    "grid = GridSearchCV(\n",
    "    estimator=lgbm,\n",
    "    param_grid=param_grid,\n",
    "    scoring='recall',\n",
    "    cv=cv,\n",
    "    verbose=2,\n",
    "    n_jobs=-1\n",
    ")\n",
    "\n"
   ]
  },
  {
   "cell_type": "code",
   "execution_count": 13,
   "id": "47cfbd73-330c-4f08-b360-93a150c1bfcf",
   "metadata": {},
   "outputs": [
    {
     "name": "stdout",
     "output_type": "stream",
     "text": [
      "Fitting 5 folds for each of 8 candidates, totalling 40 fits\n",
      "[LightGBM] [Info] Number of positive: 19860, number of negative: 226148\n",
      "[LightGBM] [Info] Auto-choosing row-wise multi-threading, the overhead of testing was 0.070522 seconds.\n",
      "You can set `force_row_wise=true` to remove the overhead.\n",
      "And if memory is not enough, you can set `force_col_wise=true`.\n",
      "[LightGBM] [Info] Total Bins 9624\n",
      "[LightGBM] [Info] Number of data points in the train set: 246008, number of used features: 192\n",
      "[LightGBM] [Info] [binary:BoostFromScore]: pavg=0.080729 -> initscore=-2.432482\n",
      "[LightGBM] [Info] Start training from score -2.432482\n"
     ]
    }
   ],
   "source": [
    "grid.fit(X_train, y_train)\n",
    "model_final=grid.best_estimator_"
   ]
  },
  {
   "cell_type": "code",
   "execution_count": 14,
   "id": "555cfa74-9928-45d0-979e-5887b16a5911",
   "metadata": {},
   "outputs": [
    {
     "name": "stdout",
     "output_type": "stream",
     "text": [
      "[[45915 10623]\n",
      " [ 2135  2830]]\n"
     ]
    }
   ],
   "source": [
    "y_pred=model_final.predict(X_test)\n",
    "print(confusion_matrix(y_test,y_pred))"
   ]
  },
  {
   "cell_type": "code",
   "execution_count": 15,
   "id": "13428390-2744-4652-a4e4-994a348cb210",
   "metadata": {},
   "outputs": [
    {
     "data": {
      "text/plain": [
       "['model_final_203features.pkl']"
      ]
     },
     "execution_count": 15,
     "metadata": {},
     "output_type": "execute_result"
    }
   ],
   "source": [
    "joblib.dump(model_final,\"model_final_203features.pkl\")"
   ]
  },
  {
   "cell_type": "code",
   "execution_count": null,
   "id": "79a7aeb3-b994-4934-b2f1-808234fe34c7",
   "metadata": {},
   "outputs": [],
   "source": []
  }
 ],
 "metadata": {
  "kernelspec": {
   "display_name": "Python 3 (ipykernel)",
   "language": "python",
   "name": "python3"
  },
  "language_info": {
   "codemirror_mode": {
    "name": "ipython",
    "version": 3
   },
   "file_extension": ".py",
   "mimetype": "text/x-python",
   "name": "python",
   "nbconvert_exporter": "python",
   "pygments_lexer": "ipython3",
   "version": "3.10.16"
  }
 },
 "nbformat": 4,
 "nbformat_minor": 5
}
